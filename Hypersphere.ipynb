{
  "nbformat": 4,
  "nbformat_minor": 0,
  "metadata": {
    "colab": {
      "name": "Hypersphere.ipynb",
      "provenance": [],
      "collapsed_sections": []
    },
    "kernelspec": {
      "name": "python3",
      "display_name": "Python 3"
    },
    "accelerator": "GPU"
  },
  "cells": [
    {
      "cell_type": "markdown",
      "metadata": {
        "id": "HIlm8TuQ4aLu"
      },
      "source": [
        "Aim: To detemine the value of $\\pi$ by Monte Carlo method."
      ]
    },
    {
      "cell_type": "code",
      "metadata": {
        "id": "bjP5akxe4jid",
        "colab": {
          "base_uri": "https://localhost:8080/",
          "height": 165
        },
        "outputId": "092619de-3cfd-46b4-a076-e19ffb739fc4"
      },
      "source": [
        "!pip install pycuda"
      ],
      "execution_count": null,
      "outputs": [
        {
          "output_type": "stream",
          "text": [
            "Requirement already satisfied: pycuda in /usr/local/lib/python3.6/dist-packages (2019.1.2)\n",
            "Requirement already satisfied: decorator>=3.2.0 in /usr/local/lib/python3.6/dist-packages (from pycuda) (4.4.0)\n",
            "Requirement already satisfied: mako in /usr/local/lib/python3.6/dist-packages (from pycuda) (1.1.0)\n",
            "Requirement already satisfied: pytools>=2011.2 in /usr/local/lib/python3.6/dist-packages (from pycuda) (2019.1.1)\n",
            "Requirement already satisfied: appdirs>=1.4.0 in /usr/local/lib/python3.6/dist-packages (from pycuda) (1.4.3)\n",
            "Requirement already satisfied: MarkupSafe>=0.9.2 in /usr/local/lib/python3.6/dist-packages (from mako->pycuda) (1.1.1)\n",
            "Requirement already satisfied: six>=1.8.0 in /usr/local/lib/python3.6/dist-packages (from pytools>=2011.2->pycuda) (1.12.0)\n",
            "Requirement already satisfied: numpy>=1.6.0 in /usr/local/lib/python3.6/dist-packages (from pytools>=2011.2->pycuda) (1.16.5)\n"
          ],
          "name": "stdout"
        }
      ]
    },
    {
      "cell_type": "code",
      "metadata": {
        "id": "Iu0hC_X34VNm"
      },
      "source": [
        "import pycuda.autoinit\n",
        "import pycuda.driver as drv\n",
        "from pycuda import gpuarray\n",
        "from pycuda.compiler import SourceModule\n",
        "import numpy as np\n",
        "from sympy import Rational"
      ],
      "execution_count": null,
      "outputs": []
    },
    {
      "cell_type": "code",
      "metadata": {
        "id": "kJe4qKzcWlpX"
      },
      "source": [
        "import threading"
      ],
      "execution_count": null,
      "outputs": []
    },
    {
      "cell_type": "code",
      "metadata": {
        "id": "Bd9gNusm4mcZ",
        "colab": {
          "base_uri": "https://localhost:8080/",
          "height": 203
        },
        "outputId": "7341279a-97be-48d8-d8c7-d6674589d61f"
      },
      "source": [
        "!pip install git+git://github.com/andreinechaev/nvcc4jupyter.git"
      ],
      "execution_count": null,
      "outputs": [
        {
          "output_type": "stream",
          "text": [
            "Collecting git+git://github.com/andreinechaev/nvcc4jupyter.git\n",
            "  Cloning git://github.com/andreinechaev/nvcc4jupyter.git to /tmp/pip-req-build-f_mj2zrz\n",
            "  Running command git clone -q git://github.com/andreinechaev/nvcc4jupyter.git /tmp/pip-req-build-f_mj2zrz\n",
            "Requirement already satisfied (use --upgrade to upgrade): NVCCPlugin==0.0.2 from git+git://github.com/andreinechaev/nvcc4jupyter.git in /usr/local/lib/python3.6/dist-packages\n",
            "Building wheels for collected packages: NVCCPlugin\n",
            "  Building wheel for NVCCPlugin (setup.py) ... \u001b[?25l\u001b[?25hdone\n",
            "  Created wheel for NVCCPlugin: filename=NVCCPlugin-0.0.2-cp36-none-any.whl size=4307 sha256=62828a59383c4cf05aec40b47dcc5c5277b4692075fa06d09c15493319e74f53\n",
            "  Stored in directory: /tmp/pip-ephem-wheel-cache-os0lj_0m/wheels/10/c2/05/ca241da37bff77d60d31a9174f988109c61ba989e4d4650516\n",
            "Successfully built NVCCPlugin\n"
          ],
          "name": "stdout"
        }
      ]
    },
    {
      "cell_type": "code",
      "metadata": {
        "id": "1pnBzo8P4y1d",
        "colab": {
          "base_uri": "https://localhost:8080/",
          "height": 54
        },
        "outputId": "195e1047-b186-406e-ca20-131b77df88b7"
      },
      "source": [
        "%load_ext nvcc_plugin"
      ],
      "execution_count": null,
      "outputs": [
        {
          "output_type": "stream",
          "text": [
            "The nvcc_plugin extension is already loaded. To reload it, use:\n",
            "  %reload_ext nvcc_plugin\n"
          ],
          "name": "stdout"
        }
      ]
    },
    {
      "cell_type": "code",
      "metadata": {
        "id": "tCKpEdHO4z8u"
      },
      "source": [
        "ker = SourceModule(no_extern_c=True ,source='''\n",
        "\n",
        "#include <curand_kernel.h>\n",
        "#define _PYTHAG(a,b)  (a*a + b*b)\n",
        "#define ULL  unsigned long long\n",
        "extern \"C\" {\n",
        "__global__ void estimate_pi(ULL iters, ULL * hits)\n",
        "{\n",
        "\tcurandState cr_state;\n",
        "     \n",
        "\tint tid = blockIdx.x * blockDim.x + threadIdx.x;\n",
        "\tcurand_init( (ULL)  clock() + (ULL) tid, (ULL) 0, \\\n",
        "\t(ULL) 0, &cr_state);\n",
        "\tfloat x, y;\n",
        " \n",
        "\tfor(ULL i=0; i < iters; i++)\n",
        "\t{ \n",
        "\t\t x = curand_uniform(&cr_state);\n",
        "\t\t y = curand_uniform(&cr_state);\n",
        "\t\t \n",
        "\t\t \n",
        "\t\t if(_PYTHAG(x,y) <= 1.0f)\n",
        "\t\t\t hits[tid]++;\n",
        "\t}\n",
        " \n",
        " return;\n",
        "}\n",
        "}// (End of 'extern \"C\"' here)\n",
        "''')"
      ],
      "execution_count": null,
      "outputs": []
    },
    {
      "cell_type": "code",
      "metadata": {
        "id": "iuJ7cwgV5U1I",
        "colab": {
          "base_uri": "https://localhost:8080/",
          "height": 104
        },
        "outputId": "830d5f84-475d-4190-df80-f86d731de148"
      },
      "source": [
        "%%time\n",
        "pi_ker = ker.get_function(\"estimate_pi\")\n",
        "\n",
        "threads_per_block = 32\n",
        "blocks_per_grid = 512 \n",
        "\n",
        "total_threads = threads_per_block * blocks_per_grid\n",
        "\n",
        "hits_d = gpuarray.zeros((total_threads,),dtype=np.uint64)\n",
        "\n",
        "iters = 2**24   \n",
        "\n",
        "pi_ker(np.uint64(iters), hits_d, grid=(blocks_per_grid,1,1), block=(threads_per_block,1,1))\n",
        "\n",
        "total_hits = np.sum( hits_d.get()  )\n",
        "total = np.uint64(total_threads) * np.uint64(iters)\n",
        "\n",
        "est_pi_symbolic =  Rational(4)*Rational(int(total_hits), int(total) )\n",
        "\n",
        "est_pi = np.float(est_pi_symbolic.evalf())\n",
        "\n",
        "print (\"Our Monte Carlo estimate of Pi is : %s\" % est_pi)\n",
        "print (\"NumPy's Pi constant is: %s \" % np.pi)\n",
        "\n",
        "print (\"Our estimate passes NumPy's 'allclose' : %s\" % np.allclose(est_pi, np.pi))"
      ],
      "execution_count": null,
      "outputs": [
        {
          "output_type": "stream",
          "text": [
            "Our Monte Carlo estimate of Pi is : 3.1415968635410536\n",
            "NumPy's Pi constant is: 3.141592653589793 \n",
            "Our estimate passes NumPy's 'allclose' : True\n",
            "CPU times: user 12.2 s, sys: 8.68 s, total: 20.8 s\n",
            "Wall time: 20.9 s\n"
          ],
          "name": "stdout"
        }
      ]
    },
    {
      "cell_type": "markdown",
      "metadata": {
        "id": "1hMqgvPj5cw3"
      },
      "source": [
        "## **Aim: To determine the volume of N-Dimensional Hyper-sphere**"
      ]
    },
    {
      "cell_type": "code",
      "metadata": {
        "id": "7yy7vxsvNC5g"
      },
      "source": [
        "import math, random"
      ],
      "execution_count": null,
      "outputs": []
    },
    {
      "cell_type": "code",
      "metadata": {
        "id": "TSKC28uxNFQ7"
      },
      "source": [
        "def isPointInCircle(x, y, Cx, Cy, radius):\n",
        "    return math.sqrt((x - Cx)**2 + (y - Cy)**2) < radius"
      ],
      "execution_count": null,
      "outputs": []
    },
    {
      "cell_type": "code",
      "metadata": {
        "id": "P12cOYAENJJL"
      },
      "source": [
        "def approximateCircleArea(radius, numberOfPoints):\n",
        "    squareSide = radius*2\n",
        "    Cx = radius\n",
        "    Cy = radius\n",
        " \n",
        "    pointsInside = 0\n",
        "    for i in range(numberOfPoints):\n",
        "        x = random.random()*squareSide\n",
        "        y = random.random()*squareSide\n",
        " \n",
        "        if (isPointInCircle(x, y, Cx, Cy, radius)):\n",
        "            pointsInside = pointsInside + 1\n",
        " \n",
        "    return pointsInside / numberOfPoints * squareSide**2"
      ],
      "execution_count": null,
      "outputs": []
    },
    {
      "cell_type": "code",
      "metadata": {
        "id": "q1EuJtm_NPAs",
        "colab": {
          "base_uri": "https://localhost:8080/",
          "height": 34
        },
        "outputId": "8c7483df-6136-42b2-9cee-58e5c655b293"
      },
      "source": [
        "%%time\n",
        "d = 2 # dimensions\n",
        "n = 10000000 # number of hits\n",
        "approximateCircleArea(1,n)"
      ],
      "execution_count": null,
      "outputs": [
        {
          "output_type": "execute_result",
          "data": {
            "text/plain": [
              "3.1413448"
            ]
          },
          "metadata": {
            "tags": []
          },
          "execution_count": 59
        }
      ]
    },
    {
      "cell_type": "markdown",
      "metadata": {
        "id": "GIxyhs0INtSK"
      },
      "source": [
        "## **3-D**"
      ]
    },
    {
      "cell_type": "code",
      "metadata": {
        "id": "HNKFhxue5Wcr"
      },
      "source": [
        "ker = SourceModule(no_extern_c=True ,source='''\n",
        "\n",
        "#include <curand_kernel.h>\n",
        "#define _PYTHAG(a,b,c)  (a*a + b*b + c*c)\n",
        "#define ULL  unsigned long long\n",
        "extern \"C\" {\n",
        "__global__ void estimate_vol(ULL iters, ULL * hits)\n",
        "{\n",
        "\tcurandState cr_state;\n",
        "     \n",
        "\tint tid = blockIdx.x * blockDim.x + threadIdx.x;\n",
        "\tcurand_init( (ULL)  clock() + (ULL) tid, (ULL) 0, \\\n",
        "\t(ULL) 0, &cr_state);\n",
        "\tfloat x, y, z;\n",
        " \n",
        "\tfor(ULL i=0; i < iters; i++)\n",
        "\t{ \n",
        "\t\t x = curand_uniform(&cr_state);\n",
        "\t\t y = curand_uniform(&cr_state);\n",
        "\t\t z = curand_uniform(&cr_state);\n",
        "\t\t \n",
        "\t\t if(_PYTHAG(x,y,z) <= 1.0f)\n",
        "\t\t\t hits[tid]++;\n",
        "\t}\n",
        " \n",
        " return;\n",
        "}\n",
        "}// (End of 'extern \"C\"' here)\n",
        "''')"
      ],
      "execution_count": null,
      "outputs": []
    },
    {
      "cell_type": "code",
      "metadata": {
        "id": "v1VoJlAN65eh",
        "colab": {
          "base_uri": "https://localhost:8080/",
          "height": 104
        },
        "outputId": "98d858ca-bbbc-470d-e054-fead6a809397"
      },
      "source": [
        "%%time\n",
        "pi_ker = ker.get_function(\"estimate_vol\")\n",
        "\n",
        "threads_per_block = 32\n",
        "blocks_per_grid = 512 \n",
        "\n",
        "total_threads = threads_per_block * blocks_per_grid\n",
        "\n",
        "hits_d = gpuarray.zeros((total_threads,),dtype=np.uint64)\n",
        "\n",
        "iters = 2**24   \n",
        "\n",
        "pi_ker(np.uint64(iters), hits_d, grid=(blocks_per_grid,1,1), block=(threads_per_block,1,1))\n",
        "\n",
        "total_hits = np.sum( hits_d.get()  )\n",
        "total = np.uint64(total_threads) * np.uint64(iters)\n",
        "\n",
        "est_pi_symbolic =  Rational(2**3)*Rational(int(total_hits), int(total) )\n",
        "\n",
        "est_pi = np.float(est_pi_symbolic.evalf())\n",
        "\n",
        "print (\"Our Monte Carlo estimate of Pi is : %s\" % est_pi)\n",
        "print (\"NumPy's Pi constant is: \", (4.0/3.0)*np.pi)\n",
        "\n",
        "print (\"Our estimate passes NumPy's 'allclose' :,\" , np.allclose(est_pi, (4/3)*np.pi))"
      ],
      "execution_count": null,
      "outputs": [
        {
          "output_type": "stream",
          "text": [
            "Our Monte Carlo estimate of Pi is : 4.188789140112931\n",
            "NumPy's Pi constant is:  4.1887902047863905\n",
            "Our estimate passes NumPy's 'allclose' :, True\n",
            "CPU times: user 13 s, sys: 9.21 s, total: 22.2 s\n",
            "Wall time: 22.2 s\n"
          ],
          "name": "stdout"
        }
      ]
    },
    {
      "cell_type": "code",
      "metadata": {
        "id": "v0mSbYHT67EE"
      },
      "source": [
        "ker = SourceModule(no_extern_c=True ,source='''\n",
        "\n",
        "#include <curand_kernel.h>\n",
        "#define _PYTHAG(a,b,c)  (a*a + b*b + c*c)\n",
        "#define ULL  unsigned long long\n",
        "extern \"C\" {\n",
        "__global__ void estimate_vol_plus(ULL iters, ULL * hits)\n",
        "{\n",
        "\tcurandState cr_state;\n",
        "     \n",
        "\tint tid = blockIdx.x * blockDim.x + threadIdx.x;\n",
        "\tcurand_init( (ULL)  clock() + (ULL) tid, (ULL) 0, \\\n",
        "\t(ULL) 0, &cr_state);\n",
        "\tfloat x, y, z, r;\n",
        "  r = 1.1; \n",
        "\tfor(ULL i=0; i < iters; i++)\n",
        "\t{ \n",
        "\t\t x = r*curand_uniform(&cr_state);\n",
        "\t\t y = r*curand_uniform(&cr_state);\n",
        "\t\t z = r*curand_uniform(&cr_state);\n",
        "\t\t \n",
        "\t\t if(_PYTHAG(x,y,z) <= r*r)\n",
        "\t\t\t hits[tid]++;\n",
        "\t}\n",
        " \n",
        " return;\n",
        "}\n",
        "}// (End of 'extern \"C\"' here)\n",
        "''')\n"
      ],
      "execution_count": null,
      "outputs": []
    },
    {
      "cell_type": "code",
      "metadata": {
        "id": "2ezowEQB7YVH",
        "colab": {
          "base_uri": "https://localhost:8080/",
          "height": 110
        },
        "outputId": "41d90871-8cba-428a-808f-d2f5fec1e556"
      },
      "source": [
        "%%time\n",
        "pi_ker = ker.get_function(\"estimate_vol_plus\")\n",
        "r = 1.1\n",
        "threads_per_block = 32\n",
        "blocks_per_grid = 512 \n",
        "\n",
        "total_threads = threads_per_block * blocks_per_grid\n",
        "\n",
        "hits_d = gpuarray.zeros((total_threads,),dtype=np.uint64)\n",
        "\n",
        "iters = 2**19   \n",
        "\n",
        "pi_ker(np.uint64(iters), hits_d, grid=(blocks_per_grid,1,1), block=(threads_per_block,1,1))\n",
        "\n",
        "total_hits = np.sum( hits_d.get()  )\n",
        "total = np.uint64(total_threads) * np.uint64(iters)\n",
        "\n",
        "est_pi_symbolic =  Rational((2*r)**3)*Rational(int(total_hits), int(total) )\n",
        "\n",
        "est_pi = np.float(est_pi_symbolic.evalf())\n",
        "\n",
        "print (\"Our Monte Carlo estimate of Pi is : %s\" % est_pi)\n",
        "print (\"NumPy's Pi constant is: \", (4/3)*np.pi*(r**3))\n",
        "\n",
        "print (\"Our estimate passes NumPy's 'allclose' :\" , np.allclose(est_pi, (4/3)*np.pi*(r**3)))"
      ],
      "execution_count": null,
      "outputs": [
        {
          "output_type": "stream",
          "text": [
            "Our Monte Carlo estimate of Pi is : 5.575321346065962\n",
            "NumPy's Pi constant is:  5.575279762570688\n",
            "Our estimate passes NumPy's 'allclose' : True\n",
            "CPU times: user 374 ms, sys: 360 ms, total: 734 ms\n",
            "Wall time: 741 ms\n"
          ],
          "name": "stdout"
        }
      ]
    },
    {
      "cell_type": "code",
      "metadata": {
        "id": "ZiNL36_mPWUs",
        "colab": {
          "base_uri": "https://localhost:8080/",
          "height": 34
        },
        "outputId": "71d48c1f-4e92-4ac0-90fc-c7dfb3d376e8"
      },
      "source": [
        "print('Ratio of change in volume to change in radius: ',(5.57528254103879-4.188789140112931)/0.1)"
      ],
      "execution_count": null,
      "outputs": [
        {
          "output_type": "stream",
          "text": [
            "Ratio of change in volume to change in radius:  13.864934009258594\n"
          ],
          "name": "stdout"
        }
      ]
    },
    {
      "cell_type": "markdown",
      "metadata": {
        "id": "hMv9UPafTeF7"
      },
      "source": [
        "## **N-D**"
      ]
    },
    {
      "cell_type": "code",
      "metadata": {
        "id": "9u6ZdiPPV-k1"
      },
      "source": [
        "ker = SourceModule(no_extern_c=True ,source='''\n",
        "\n",
        "#include <curand_kernel.h>\n",
        "#define ULL  unsigned long long\n",
        "extern \"C\" {\n",
        "__global__ void estimate_vol( ULL iters,ULL dim, ULL r, ULL * hits)\n",
        "{\n",
        "\tcurandState cr_state;\n",
        "     \n",
        "\tint tid = blockIdx.x * blockDim.x + threadIdx.x;\n",
        "\tcurand_init( (ULL)  clock() + (ULL) tid, (ULL) 0, \\\n",
        "\t(ULL) 0, &cr_state);\n",
        "\tfloat x, y;\n",
        "\tfor(ULL i=0; i < iters; i++)\n",
        "\t{ \n",
        "    y = 0;\n",
        "    for(int j = 0; j < dim; j++)\n",
        "    {\n",
        "      x = r*curand_uniform(&cr_state);\n",
        "      y += x*x;\t\t \n",
        "    }\n",
        "\t\t if(y <= r*r)\n",
        "\t\t\t hits[tid]++;\n",
        "\t}\n",
        " \n",
        " return;\n",
        "}\n",
        "}// (End of 'extern \"C\"' here)\n",
        "''')\n"
      ],
      "execution_count": null,
      "outputs": []
    },
    {
      "cell_type": "code",
      "metadata": {
        "id": "pzKfuCDnWwFm"
      },
      "source": [
        "import math # for factorial calculation"
      ],
      "execution_count": null,
      "outputs": []
    },
    {
      "cell_type": "code",
      "metadata": {
        "id": "IaIra7_2ZSBI"
      },
      "source": [
        "def fac(n): # only for gamma function calculation\n",
        "  if (n > 1):\n",
        "    return (n-1)*fac(n-1);\n",
        "  else:\n",
        "    return 1;     "
      ],
      "execution_count": null,
      "outputs": []
    },
    {
      "cell_type": "code",
      "metadata": {
        "id": "syj6v6UpWxuv",
        "colab": {
          "base_uri": "https://localhost:8080/",
          "height": 110
        },
        "outputId": "77dc1594-12aa-4709-cdb8-88f72089a366"
      },
      "source": [
        "%%time\n",
        "r = 1\n",
        "N = 1\n",
        "_3N = 3*N\n",
        "pi_ker = ker.get_function(\"estimate_vol\")\n",
        "threads_per_block = 32\n",
        "blocks_per_grid = 512 \n",
        "\n",
        "total_threads = threads_per_block * blocks_per_grid\n",
        "\n",
        "hits_d = gpuarray.zeros((total_threads,),dtype=np.uint64)\n",
        "\n",
        "iters = 2**30   \n",
        "\n",
        "pi_ker(np.uint64(iters), np.uint64(_3N), np.uint64(r), hits_d, grid=(blocks_per_grid,1,1), block=(threads_per_block,1,1))\n",
        "\n",
        "total_hits = np.sum( hits_d.get()  )\n",
        "total = np.uint64(total_threads) * np.uint64(iters)\n",
        "\n",
        "est_pi_symbolic =  Rational((2*r)**(_3N))*Rational(int(total_hits), int(total) )\n",
        "\n",
        "est_pi = np.float(est_pi_symbolic.evalf())\n",
        "\n",
        "print (\"Our Monte Carlo estimate of volume of radius \",r,\" is : \", est_pi )\n",
        "if((_3N)//2 == 0):\n",
        "  print (\"NumPy's output is: \", (( (np.pi)**((_3N)/2) )/(math.factorial(_3N*0.5))) * (r**(_3N)))\n",
        "  print (\"Our estimate passes NumPy's 'allclose' :\" , np.allclose(est_pi, (( (np.pi)**((_3N)/2) )/(math.factorial(_3N*0.5))) * (r**(_3N))))\n",
        "else:\n",
        "  print (\"NumPy's output is: \", (( (np.pi)**((_3N - 1)*0.5) )/(fac(_3N*0.5 + 1))) * (r**(_3N)))\n",
        "  print (\"Our estimate passes NumPy's 'allclose' :\" , np.allclose(est_pi, (( (np.pi)**((_3N - 1)*0.5) )/(fac(_3N*0.5))) * (r**(_3N)))  )     "
      ],
      "execution_count": null,
      "outputs": [
        {
          "output_type": "stream",
          "text": [
            "Our Monte Carlo estimate of volume of radius  1  is :  4.18878991933434\n",
            "NumPy's output is:  4.1887902047863905\n",
            "Our estimate passes NumPy's 'allclose' : False\n",
            "CPU times: user 30min 14s, sys: 26min 5s, total: 56min 19s\n",
            "Wall time: 56min 22s\n"
          ],
          "name": "stdout"
        }
      ]
    },
    {
      "cell_type": "code",
      "metadata": {
        "id": "R0sN_0bOcfG2",
        "colab": {
          "base_uri": "https://localhost:8080/",
          "height": 110
        },
        "outputId": "d495889b-5489-40c7-e435-c8f3f795c7ea"
      },
      "source": [
        "%%time\n",
        "\n",
        "N = 100\n",
        "r = 1\n",
        "_3N = 3*N\n",
        "\n",
        "iters = 2**29\n",
        "hits = 0\n",
        "for i in range(iters):\n",
        "  y = 0\n",
        "  for j in range(_3N):\n",
        "    x = r*np.random.rand()\n",
        "    y += x**2\n",
        "  if(y <= r**2):\n",
        "    hits += 1\n",
        "est = (2**(_3N))*(hits/iters)\n",
        "print(est)\n",
        "print((4/3)*np.pi*(r**3))\n",
        "print (\"Our estimate passes NumPy's 'allclose' :\" , np.allclose(est, (4/3)*np.pi*(r**3)))  "
      ],
      "execution_count": null,
      "outputs": [
        {
          "output_type": "stream",
          "text": [
            "4.188625782728195\n",
            "4.1887902047863905\n",
            "Our estimate passes NumPy's 'allclose' : False\n",
            "CPU times: user 22min 45s, sys: 503 ms, total: 22min 45s\n",
            "Wall time: 22min 47s\n"
          ],
          "name": "stdout"
        }
      ]
    },
    {
      "cell_type": "code",
      "metadata": {
        "id": "jdluhEi5i36P"
      },
      "source": [
        "n = 10\n",
        "\n",
        "x = np.random.randn(3,2**n)\n",
        "\n",
        "iters = 2**24\n",
        "\n",
        "\n",
        "\n",
        "\n"
      ],
      "execution_count": null,
      "outputs": []
    },
    {
      "cell_type": "code",
      "metadata": {
        "id": "AIqQWMJdm_Ez"
      },
      "source": [
        "num_arrays = 10\n",
        "array_len = 1024**2\n",
        "kernel_code = \"\"\" \n",
        "__global__ void mult_ker(float * in_array, float * out_array, unsigned long long array_len)\n",
        "{\n",
        "    int thd = blockIdx.x*blockDim.x + threadIdx.x;\n",
        "    for(int j=0; j < array_len; j++)\n",
        "    {\n",
        "      int i = j * blockDim.x + thd;\n",
        "      for(int k = 0; k < 50; k++)\n",
        "      {\n",
        "        if(in_array[])\n",
        "        out_array[i] *= 2.0;\n",
        "         array[i] /= 2.0;\n",
        "     }\n",
        " }\n",
        "}\n",
        "\"\"\""
      ],
      "execution_count": null,
      "outputs": []
    },
    {
      "cell_type": "code",
      "metadata": {
        "id": "r96lVDHQniUI"
      },
      "source": [
        "ker = SourceModule(no_extern_c=True ,source='''\n",
        "#include <curand_kernel.h>\n",
        "#define ULL  unsigned long long\n",
        "extern \"C\" {\n",
        "__global__ void estimate_vol( ULL iters,ULL dim, ULL r, ULL * hits)\n",
        "{\n",
        "\tcurandState cr_state;\n",
        "     \n",
        "\tint tid = blockIdx.x * blockDim.x + threadIdx.x;\n",
        "\tcurand_init( (ULL)  clock() + (ULL) tid, (ULL) 0, \\\n",
        "\t(ULL) 0, &cr_state);\n",
        "\tfloat x, y;\n",
        "\tfor(ULL i=0; i < iters; i++)\n",
        "\t{ \n",
        "    y = 0;\n",
        "    for(int j = 0; j < dim; j++)\n",
        "    {\n",
        "      x = r*curand_uniform(&cr_state);\n",
        "      y += x*x;\t\t \n",
        "    }\n",
        "\t\t if(y <= r*r)\n",
        "\t\t\t hits[tid]++;\n",
        "\t}\n",
        " \n",
        " return;\n",
        "}\n",
        "}// (End of 'extern \"C\"' here)\n",
        "''')\n"
      ],
      "execution_count": null,
      "outputs": []
    },
    {
      "cell_type": "markdown",
      "metadata": {
        "id": "BKkj8zu0YyZH"
      },
      "source": [
        "# **Integral points**"
      ]
    },
    {
      "cell_type": "code",
      "metadata": {
        "id": "lRTHBXmZYxxB"
      },
      "source": [
        "import numpy as np\n",
        "import matplotlib.pyplot as plt"
      ],
      "execution_count": null,
      "outputs": []
    },
    {
      "cell_type": "code",
      "metadata": {
        "id": "hf3TjniWY2kQ"
      },
      "source": [
        "N = 10 # number of dimensions\n",
        "a = np.arange(N, dtype=np.uint8)\n",
        "for i in range(N-1):\n",
        "  a = np.column_stack((a,np.arange(N)))\n",
        "a = a.T"
      ],
      "execution_count": null,
      "outputs": []
    },
    {
      "cell_type": "code",
      "metadata": {
        "id": "0LjJeizUjDvn"
      },
      "source": [
        "def Recurse(y, number, n=[]): \n",
        "  if (number > 1):\n",
        "    Recurse( y, number - 1)\n",
        "  else:\n",
        "    for x in range(y):\n",
        "      print()\n",
        "      "
      ],
      "execution_count": null,
      "outputs": []
    },
    {
      "cell_type": "code",
      "metadata": {
        "id": "PyPvFoBHY5C_"
      },
      "source": [
        "def Recurse(y, number, n=[]): \n",
        "  if (number > 1):\n",
        "    Recurse( y, number - 1, n.append() )\n",
        "  else:\n",
        "    for x in range(y):\n",
        "      if(np.sum(np.array([i**2 for i in n])) <= N**2):\n",
        "        hits += 0.25\n",
        "      "
      ],
      "execution_count": null,
      "outputs": []
    },
    {
      "cell_type": "code",
      "metadata": {
        "id": "H-5sxbMc0na5"
      },
      "source": [
        "kernel_code = SourceModule(\"\"\"\n",
        "__global__ void kernel(int * out)\n",
        "{\n",
        "  int idx = blockIdx.x*blockDim.x + threadIdx.x;\n",
        "  if(idx < 10)\n",
        "  {\n",
        "    out[0] += 1;    \n",
        "  }\n",
        "}\n",
        "\"\"\")"
      ],
      "execution_count": null,
      "outputs": []
    },
    {
      "cell_type": "code",
      "metadata": {
        "id": "xvF8EPTpaJkU"
      },
      "source": [
        "kernel_code = SourceModule(\"\"\"\n",
        "__global__ void kernel_sleep(int * out)\n",
        "{\n",
        "  int idx = blockIdx.x*blockDim.x + threadIdx.x;\n",
        "  clock_t start = clock();\n",
        "  clock_t now;\n",
        "  for (;;) \n",
        "  {\n",
        "    now = clock();\n",
        "    clock_t cycles = now > start ? now - start : now + (0xffffffff - start);\n",
        "    if (cycles >= 1000*(1 + idx)) \n",
        "    {\n",
        "      if(idx < 10)\n",
        "      {\n",
        "        out[0] += 1;    \n",
        "      }\n",
        "    }\n",
        "  }\n",
        "}\n",
        "\"\"\")"
      ],
      "execution_count": null,
      "outputs": []
    },
    {
      "cell_type": "code",
      "metadata": {
        "id": "HjPECKKAwhAk",
        "colab": {
          "base_uri": "https://localhost:8080/",
          "height": 35
        },
        "outputId": "d09be67b-ee07-4a34-9163-1c4227ad2bcf"
      },
      "source": [
        "h_ker = kernel_code.get_function(\"kernel\")\n",
        "threads_per_block = 16\n",
        "blocks_per_grid = 1 \n",
        "total_threads = threads_per_block * blocks_per_grid\n",
        "hits_d = gpuarray.zeros((1,),dtype=np.uint64)\n",
        "h_ker(hits_d, grid=(blocks_per_grid,1,1), block=(threads_per_block,1,1))"
      ],
      "execution_count": null,
      "outputs": [
        {
          "output_type": "stream",
          "text": [
            "[0]\n"
          ],
          "name": "stdout"
        }
      ]
    },
    {
      "cell_type": "code",
      "metadata": {
        "id": "kudIHiB_bEJ8"
      },
      "source": [
        "h_ker = kernel_code.get_function(\"kernel_sleep\")\n",
        "threads_per_block = 16\n",
        "blocks_per_grid = 1 \n",
        "total_threads = threads_per_block * blocks_per_grid\n",
        "hits_d = gpuarray.zeros((1,),dtype=np.uint64)\n",
        "h_ker(hits_d, grid=(blocks_per_grid,1,1), block=(threads_per_block,1,1))"
      ],
      "execution_count": null,
      "outputs": []
    },
    {
      "cell_type": "markdown",
      "metadata": {
        "id": "DoNG95y_D_mS"
      },
      "source": [
        "## **Number of integral points inside a hypersphere of N-dimensions (SOLVED)**"
      ]
    },
    {
      "cell_type": "code",
      "metadata": {
        "id": "8zOre8wF2_RH",
        "colab": {
          "base_uri": "https://localhost:8080/",
          "height": 165
        },
        "outputId": "a81e3d94-c3c8-4829-b125-d4143fa01ca5"
      },
      "source": [
        "%%time\n",
        "%%cu\n",
        "\n",
        "#include<iostream>\n",
        "#include<cmath>\n",
        "using namespace std;\n",
        "#define _R1 (9);\n",
        "#define _R2 (10);\n",
        "#define _N (10);\n",
        "#define _DIM (3);\n",
        "#define _THRDS_P_BLK (32);\n",
        "#define _MAX_DIM_PER_LOOP (6);\n",
        "\n",
        "__global__ void kernel(int* x, int* y, int off)\n",
        "{\n",
        "    int n = _N;\n",
        "    const int dim = _DIM;\n",
        "    int idx = blockIdx.x*blockDim.x + threadIdx.x;\n",
        "    int arr[dim] = {0};\n",
        "    int max_dim_per_loop = _MAX_DIM_PER_LOOP;\n",
        "    unsigned long long int index = idx + off*pow(n,max_dim_per_loop);\n",
        "    for(int i=0;i<dim; i++)\n",
        "    {\n",
        "        arr[i] = index/pow(n,dim-1-i);\n",
        "        index -= arr[i]*pow(n,dim-1-i);\n",
        "    }\n",
        "    \n",
        "    int sum_o_sq = 0;\n",
        "    for(int j=0; j<dim; j++)\n",
        "    {\n",
        "        sum_o_sq += pow(arr[j],2);\n",
        "    }\n",
        "    int R1 = _R1;\n",
        "    int R2 = _R2;\n",
        "    \n",
        "    if(sum_o_sq <= pow(R1,2))\n",
        "    {\n",
        "        x[idx] += 1;\n",
        "    }\n",
        "    if(sum_o_sq <= pow(R2,2))\n",
        "    {\n",
        "        y[idx] += 1;\n",
        "    }\n",
        "}\n",
        "\n",
        "__host__ int main()\n",
        "{\n",
        "    int ref_N = _N;\n",
        "    int dim = _DIM;\n",
        "    const int max_dim_per_loop = _MAX_DIM_PER_LOOP;\n",
        "    int n = 0;\n",
        "    if(dim > max_dim_per_loop)\n",
        "    {\n",
        "        n = dim - max_dim_per_loop;   \n",
        "    }\n",
        "    unsigned long long int N = pow(ref_N,dim-n);\n",
        "    n = ref_N*n;\n",
        "    int h_offset = 0;\n",
        "    int hits_1[N] = {0};\n",
        "    int hits_2[N] = {0};\n",
        "    int * d_hits_1;\n",
        "    int * d_hits_2;\n",
        "    int sz = sizeof(hits_1)/sizeof(*hits_1);\n",
        "    sz *= sizeof(int);\n",
        "    cout << \"GPU memory usage: \" << sz << \" bytes\" << endl;\n",
        "    cudaMalloc((void**)&d_hits_1, sz);\n",
        "    cudaMalloc((void**)&d_hits_2, sz);\n",
        "    cudaMemcpy(d_hits_1,&hits_1,sz, cudaMemcpyHostToDevice);\n",
        "    cudaMemcpy(d_hits_2,&hits_2,sz, cudaMemcpyHostToDevice);\n",
        "    int threads_per_block = _THRDS_P_BLK;\n",
        "    int block_per_grid = N/threads_per_block;\n",
        "    kernel<<< block_per_grid,threads_per_block >>>(d_hits_1, d_hits_2,h_offset); \n",
        "    n -= 1;\n",
        "    h_offset += 1;\n",
        "    while(n >= 0)\n",
        "    {\n",
        "        kernel<<< block_per_grid,threads_per_block >>>(d_hits_1, d_hits_2,h_offset); \n",
        "        n -= 1;\n",
        "        h_offset += 1;\n",
        "    }\n",
        "    cudaMemcpy(&hits_1,d_hits_1,sz, cudaMemcpyDeviceToHost);\n",
        "    cudaMemcpy(&hits_2,d_hits_2,sz, cudaMemcpyDeviceToHost);\n",
        "    int h1 = 0;\n",
        "    int h2 = 0;\n",
        "    for(int i=0;i<N;i++)\n",
        "    {\n",
        "        h1 += hits_1[i];\n",
        "        h2 += hits_2[i];\n",
        "    }\n",
        "    \n",
        "    cudaFree(d_hits_1);\n",
        "    cudaFree(d_hits_2);\n",
        "    \n",
        "    int R1 = _R1;\n",
        "    int R2 = _R2;\n",
        "    float V1 = (1.0/pow(2,dim)) + (pow(R1,dim)/pow(2.0,dim-1)) + (h1*pow(2.0,dim) - pow(R1,dim) - 1);\n",
        "    float V2 = (1.0/pow(2,dim)) + (pow(R2,dim)/pow(2.0,dim-1)) + (h2*pow(2.0,dim) - pow(R2,dim) - 1);\n",
        "    cout << \"Number of points inside/on the hypersphere of radius, R1: \" << h1 << endl;\n",
        "    cout << \"Number of points inside/on the hypersphere of radius, R2: \" << h2 << endl;\n",
        "    cout << \"Volume of the hypersphere of radius R1 computed by counting the number of integral points inside (and on) the same: \" << V1 << endl;\n",
        "    cout << \"Volume of the hypersphere of radius R2 computed by counting the number of integral points inside (and on) the same: \" << V2 << endl;\n",
        "    return 0;\n",
        "}"
      ],
      "execution_count": null,
      "outputs": [
        {
          "output_type": "stream",
          "text": [
            "GPU memory usage: 4000 bytes\n",
            "Number of points inside/on the hypersphere of radius, R1: 486\n",
            "Number of points inside/on the hypersphere of radius, R2: 645\n",
            "Volume of the hypersphere of radius R1 computed by counting the number of integral points inside (and on) the same: 3340.38\n",
            "Volume of the hypersphere of radius R2 computed by counting the number of integral points inside (and on) the same: 4409.12\n",
            "\n",
            "CPU times: user 1.83 ms, sys: 13.8 ms, total: 15.7 ms\n",
            "Wall time: 1.61 s\n"
          ],
          "name": "stdout"
        }
      ]
    },
    {
      "cell_type": "code",
      "metadata": {
        "id": "B3Y5zFHyoB8M"
      },
      "source": [
        "%%time\n",
        "%%cu\n",
        "\n",
        "#include<iostream>\n",
        "#include<cmath>\n",
        "using namespace std;\n",
        "#define _R1 (9);\n",
        "#define _R2 (10);\n",
        "#define _N (10);\n",
        "#define _THRDS_P_BLK (32);\n",
        "#define _MAX_DIM_PER_LOOP (6);\n",
        "\n",
        "__global__ void kernel(int* x, int* y, int off)\n",
        "{\n",
        "    int n = _N;\n",
        "    int idx = blockIdx.x*blockDim.x + threadIdx.x;\n",
        "    int arr[n] = {0};\n",
        "    int max_dim_per_loop = _MAX_DIM_PER_LOOP;\n",
        "    unsigned long long int index = idx + off*pow(n,max_dim_per_loop);\n",
        "    for(int i=0;i<n; i++)\n",
        "    {\n",
        "        arr[i] = index/pow(10,n-1-i);\n",
        "        index -= arr[i]*pow(n,dim-1-i);\n",
        "    }\n",
        "    \n",
        "    int sum_o_sq = 0;\n",
        "    for(int j=0; j<dim; j++)\n",
        "    {\n",
        "        sum_o_sq += pow(arr[j],2);\n",
        "    }\n",
        "    int R1 = _R1;\n",
        "    int R2 = _R2;\n",
        "    \n",
        "    if(sum_o_sq <= pow(R1,2))\n",
        "    {\n",
        "        x[idx] += 1;\n",
        "    }\n",
        "    if(sum_o_sq <= pow(R2,2))\n",
        "    {\n",
        "        y[idx] += 1;\n",
        "    }\n",
        "}\n",
        "\n",
        "__host__ int main()\n",
        "{\n",
        "    int ref_N = _N;\n",
        "    int dim = _DIM;\n",
        "    const int max_dim_per_loop = _MAX_DIM_PER_LOOP;\n",
        "    int n = 0;\n",
        "    if(dim > max_dim_per_loop)\n",
        "    {\n",
        "        n = dim - max_dim_per_loop;   \n",
        "    }\n",
        "    unsigned long long int N = pow(ref_N,dim-n);\n",
        "    n = ref_N*n;\n",
        "    int h_offset = 0;\n",
        "    int hits_1[N] = {0};\n",
        "    int hits_2[N] = {0};\n",
        "    int * d_hits_1;\n",
        "    int * d_hits_2;\n",
        "    int sz = sizeof(hits_1)/sizeof(*hits_1);\n",
        "    sz *= sizeof(int);\n",
        "    cout << \"GPU memory usage: \" << sz << \" bytes\" << endl;\n",
        "    cudaMalloc((void**)&d_hits_1, sz);\n",
        "    cudaMalloc((void**)&d_hits_2, sz);\n",
        "    cudaMemcpy(d_hits_1,&hits_1,sz, cudaMemcpyHostToDevice);\n",
        "    cudaMemcpy(d_hits_2,&hits_2,sz, cudaMemcpyHostToDevice);\n",
        "    int threads_per_block = _THRDS_P_BLK;\n",
        "    int block_per_grid = N/threads_per_block;\n",
        "    kernel<<< block_per_grid,threads_per_block >>>(d_hits_1, d_hits_2,h_offset); \n",
        "    n -= 1;\n",
        "    h_offset += 1;\n",
        "    while(n >= 0)\n",
        "    {\n",
        "        kernel<<< block_per_grid,threads_per_block >>>(d_hits_1, d_hits_2,h_offset); \n",
        "        n -= 1;\n",
        "        h_offset += 1;\n",
        "    }\n",
        "    cudaMemcpy(&hits_1,d_hits_1,sz, cudaMemcpyDeviceToHost);\n",
        "    cudaMemcpy(&hits_2,d_hits_2,sz, cudaMemcpyDeviceToHost);\n",
        "    int h1 = 0;\n",
        "    int h2 = 0;\n",
        "    for(int i=0;i<N;i++)\n",
        "    {\n",
        "        h1 += hits_1[i];\n",
        "        h2 += hits_2[i];\n",
        "    }\n",
        "    \n",
        "    cudaFree(d_hits_1);\n",
        "    cudaFree(d_hits_2);\n",
        "    \n",
        "    int R1 = _R1;\n",
        "    int R2 = _R2;\n",
        "    float V1 = (1.0/pow(2,dim)) + (pow(R1,dim)/pow(2.0,dim-1)) + (h1*pow(2.0,dim) - pow(R1,dim) - 1);\n",
        "    float V2 = (1.0/pow(2,dim)) + (pow(R2,dim)/pow(2.0,dim-1)) + (h2*pow(2.0,dim) - pow(R2,dim) - 1);\n",
        "    cout << \"Number of points inside/on the hypersphere of radius, R1: \" << h1 << endl;\n",
        "    cout << \"Number of points inside/on the hypersphere of radius, R2: \" << h2 << endl;\n",
        "    cout << \"Volume of the hypersphere of radius R1 computed by counting the number of integral points inside (and on) the same: \" << V1 << endl;\n",
        "    cout << \"Volume of the hypersphere of radius R2 computed by counting the number of integral points inside (and on) the same: \" << V2 << endl;\n",
        "    return 0;\n",
        "}"
      ],
      "execution_count": null,
      "outputs": []
    },
    {
      "cell_type": "markdown",
      "metadata": {
        "id": "ExjBz3tVEIML"
      },
      "source": [
        "## **Previous versions**"
      ]
    },
    {
      "cell_type": "code",
      "metadata": {
        "id": "52rUvZ5BdX_b",
        "colab": {
          "base_uri": "https://localhost:8080/",
          "height": 128
        },
        "outputId": "51359ece-7593-4fc0-eee3-3aa6eec7f1a8"
      },
      "source": [
        "%%time\n",
        "%%cu\n",
        "\n",
        "#include<iostream>\n",
        "#include<cmath>\n",
        "using namespace std;\n",
        "#define _R1 (9);\n",
        "#define _R2 (10);\n",
        "#define _N (10);\n",
        "#define _DIM (6);\n",
        "#define _THRDS_P_BLK (1024);\n",
        "\n",
        "__host__ unsigned int nextPowerOf2(unsigned int n)  \n",
        "{  \n",
        "    unsigned count = 0;  \n",
        "      \n",
        "    // First n in the below condition  \n",
        "    // is for the case where n is 0  \n",
        "    if (n && !(n & (n - 1)))  \n",
        "        return n;  \n",
        "      \n",
        "    while( n != 0)  \n",
        "    {  \n",
        "        n >>= 1;  \n",
        "        count += 1;  \n",
        "    }  \n",
        "      \n",
        "    return 1 << count;  \n",
        "}  \n",
        " \n",
        "__global__ void kernel(int* x, int* y)\n",
        "{\n",
        "    int n = _N;\n",
        "    const int dim = _DIM;\n",
        "    int idx = blockIdx.x*blockDim.x + threadIdx.x;\n",
        "    int arr[dim] = {0};\n",
        "    int sub = 0;\n",
        "    int index = idx;\n",
        "    for(int i=0;i<dim; i++)\n",
        "    {\n",
        "        arr[i] = index/pow(n,dim-1-i);\n",
        "        index -= arr[i]*pow(n,dim-1-i);\n",
        "    }\n",
        "    \n",
        "    int sum_o_sq = 0;\n",
        "    for(int j=0; j<dim; j++)\n",
        "    {\n",
        "        sum_o_sq += pow(arr[j],2);\n",
        "    }\n",
        "    int R1 = _R1;\n",
        "    int R2 = _R2;\n",
        "    \n",
        "    if(sum_o_sq <= pow(R1,2))\n",
        "    {\n",
        "        x[idx] = 1;\n",
        "    }\n",
        "    if(sum_o_sq <= pow(R2,2))\n",
        "    {\n",
        "        y[idx] = 1;\n",
        "    }\n",
        "}\n",
        "\n",
        "__host__ int main()\n",
        "{\n",
        "    int N = _N;\n",
        "    int dim = _DIM;\n",
        "    N = pow(N,dim);\n",
        "    //N = nextPowerOf2(N);\n",
        "    int hits_1[N] = {0};\n",
        "    int hits_2[N] = {0};\n",
        "    int * d_hits_1;\n",
        "    int * d_hits_2;\n",
        "    int sz = sizeof(hits_1)/sizeof(*hits_1);\n",
        "    sz *= sizeof(int);\n",
        "    cout << sz << endl;\n",
        "    cudaMalloc((void**)&d_hits_1, sz);\n",
        "    cudaMalloc((void**)&d_hits_2, sz);\n",
        "    cudaMemcpy(d_hits_1,&hits_1,sz, cudaMemcpyHostToDevice);\n",
        "    cudaMemcpy(d_hits_2,&hits_2,sz, cudaMemcpyHostToDevice);\n",
        "    int threads_per_block = _THRDS_P_BLK;\n",
        "    int block_per_grid = N/threads_per_block;\n",
        "    kernel<<< block_per_grid,threads_per_block >>>(d_hits_1, d_hits_2); \n",
        "    cudaMemcpy(&hits_1,d_hits_1,sz, cudaMemcpyDeviceToHost);\n",
        "    cudaMemcpy(&hits_2,d_hits_2,sz, cudaMemcpyDeviceToHost);\n",
        "    int h1 = 0;\n",
        "    int h2 = 0;\n",
        "    for(int i=0;i<N;i++)\n",
        "    {\n",
        "        h1 += hits_1[i];\n",
        "        h2 += hits_2[i];\n",
        "    }\n",
        "    \n",
        "    cudaFree(d_hits_1);\n",
        "    cudaFree(d_hits_2);\n",
        "    \n",
        "    cout << \"Number of points inside/on the hypersphere of radius, R1: \" << h1 << endl;\n",
        "    cout << \"Number of points inside/on the hypersphere of radius, R2: \" << h2 << endl;\n",
        "    \n",
        "    return 0;\n",
        "}"
      ],
      "execution_count": null,
      "outputs": [
        {
          "output_type": "stream",
          "text": [
            "4000000\n",
            "Number of points inside/on the hypersphere of radius, R1: 81586\n",
            "Number of points inside/on the hypersphere of radius, R2: 145132\n",
            "\n",
            "CPU times: user 531 µs, sys: 11.4 ms, total: 11.9 ms\n",
            "Wall time: 1.67 s\n"
          ],
          "name": "stdout"
        }
      ]
    },
    {
      "cell_type": "code",
      "metadata": {
        "id": "wJxeLt-_W3T8",
        "colab": {
          "base_uri": "https://localhost:8080/",
          "height": 109
        },
        "outputId": "767e9e46-71ab-4e52-9783-0891b9190647"
      },
      "source": [
        "%%time\n",
        "%%cu\n",
        "\n",
        "#include<iostream>\n",
        "#include<cmath>\n",
        "using namespace std;\n",
        "\n",
        "int main()\n",
        "{\n",
        "    int n = 100;\n",
        "    const int dim = 3;\n",
        "    int h1 = 0;\n",
        "    int h2 = 0;\n",
        "    int idx_len = pow(n,dim);\n",
        "    unsigned long idx[idx_len] = {0};\n",
        "    for(int i=0;i<n;i++)\n",
        "    {\n",
        "        for(int j=0;j<n;j++)\n",
        "        {\n",
        "            for(int k=0;k<n;k++)\n",
        "            {\n",
        "                if(pow(i,2) + pow(j,2) + pow(k,2) <= pow(9,2))\n",
        "                {\n",
        "                    h1 += 1;\n",
        "                }\n",
        "                if(pow(i,2) + pow(j,2) + pow(k,2) <= pow(10,2))\n",
        "                {\n",
        "                    h2 += 1;\n",
        "                }                    \n",
        "            }\n",
        "        }\n",
        "    }  \n",
        "    cout << \"Number of points inside hypersphere of radius, R1: \" << h1 << endl;\n",
        "    cout << \"Number of points inside hypersphere of radius, R2: \" << h2 << endl;\n",
        "    \n",
        "    return 0;\n",
        "}"
      ],
      "execution_count": null,
      "outputs": [
        {
          "output_type": "stream",
          "text": [
            "Number of points inside hypersphere of radius, R1: 486\n",
            "Number of points inside hypersphere of radius, R2: 648\n",
            "\n",
            "CPU times: user 1.79 ms, sys: 11.2 ms, total: 13 ms\n",
            "Wall time: 1.62 s\n"
          ],
          "name": "stdout"
        }
      ]
    },
    {
      "cell_type": "code",
      "metadata": {
        "id": "AL8QLPC8HPIr",
        "colab": {
          "base_uri": "https://localhost:8080/",
          "height": 72
        },
        "outputId": "664876de-b48e-4f12-c6b3-ca78134500b4"
      },
      "source": [
        "%%cu\n",
        "\n",
        "#include<iostream>\n",
        "#include<cmath>\n",
        "using namespace std;\n",
        "\n",
        "int main()\n",
        "{\n",
        "    int n = 10;\n",
        "    const int dim = 3;\n",
        "    int h1 = 0;\n",
        "    int h2 = 0;\n",
        "    int idx_len = pow(n,dim);\n",
        "    unsigned long idx[idx_len] = {0};\n",
        "    for(int i=0;i<n;i++)\n",
        "    {\n",
        "        for(int j=0;j<n;j++)\n",
        "        {\n",
        "            for(int k=0;k<n;k++)\n",
        "            {\n",
        "                idx[i*n*n + j*n + k] = i*n*n + j*n + k;\n",
        "            }\n",
        "        }\n",
        "    }  \n",
        "    for(int i=0;i<idx_len; i++)\n",
        "    {\n",
        "        int a = idx[i]/pow(n,2);\n",
        "        idx[i] -= a*pow(n,2);\n",
        "        int b = idx[i]/pow(n,1);\n",
        "        idx[i] -= b*pow(n,1);\n",
        "        int c = idx[i];\n",
        "        if(pow(a,2) + pow(b,2) + pow(c,2) <= pow(9,2))\n",
        "        {\n",
        "            h1 += 1;\n",
        "        }\n",
        "        if(pow(a,2) + pow(b,2) + pow(c,2) <= pow(10,2))\n",
        "        {\n",
        "            h2 += 1;\n",
        "        }\n",
        "    }\n",
        "    cout << \"Number of points inside hypersphere of radius, R1: \" << h1 << endl;\n",
        "    cout << \"Number of points inside hypersphere of radius, R2: \" << h2 << endl;\n",
        "    \n",
        "    return 0;\n",
        "}"
      ],
      "execution_count": null,
      "outputs": [
        {
          "output_type": "stream",
          "text": [
            "Number of points inside hypersphere of radius, R1: 486\n",
            "Number of points inside hypersphere of radius, R2: 645\n",
            "\n"
          ],
          "name": "stdout"
        }
      ]
    },
    {
      "cell_type": "code",
      "metadata": {
        "id": "P4kMRvgurQwD"
      },
      "source": [
        "\n",
        "%%cu\n",
        "__host__ unsigned int nextPowerOf2(unsigned int n)  \n",
        "{  \n",
        "    unsigned count = 0;  \n",
        "      \n",
        "    // First n in the below condition  \n",
        "    // is for the case where n is 0  \n",
        "    if (n && !(n & (n - 1)))  \n",
        "        return n;  \n",
        "      \n",
        "    while( n != 0)  \n",
        "    {  \n",
        "        n >>= 1;  \n",
        "        count += 1;  \n",
        "    }  \n",
        "      \n",
        "    return 1 << count;  \n",
        "}  \n"
      ],
      "execution_count": null,
      "outputs": []
    }
  ]
}